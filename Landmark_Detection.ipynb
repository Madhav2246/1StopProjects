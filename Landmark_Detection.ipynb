{
  "cells": [
    {
      "cell_type": "code",
      "execution_count": null,
      "metadata": {
        "id": "E7rBwTh0fZQY"
      },
      "outputs": [],
      "source": [
        "import numpy as np\n",
        "import pandas as pd\n",
        "import keras\n",
        "import cv2\n",
        "from matplotlib import pyplot as plt\n",
        "import os\n",
        "import random\n",
        "from PIL import Image\n"
      ]
    },
    {
      "cell_type": "code",
      "execution_count": null,
      "metadata": {
        "id": "fr9tOiYnkM7h"
      },
      "outputs": [],
      "source": [
        "df= pd.read_csv(\"train.csv\")\n",
        "base_path=\"./images/\""
      ]
    },
    {
      "cell_type": "code",
      "execution_count": null,
      "metadata": {
        "colab": {
          "base_uri": "https://localhost:8080/",
          "height": 423
        },
        "id": "5xEhRbMImCoX",
        "outputId": "613837f4-88bd-425c-cb05-ef93b9f569f9"
      },
      "outputs": [],
      "source": [
        "df"
      ]
    },
    {
      "cell_type": "code",
      "execution_count": null,
      "metadata": {
        "id": "ZcrAPqlJmFRQ"
      },
      "outputs": [],
      "source": [
        "samples= 20000\n",
        "df=df.loc[df[\"id\"].str.startswith('00',na=False),:]\n",
        "num_classes=len(df[\"landmark_id\"].unique())\n",
        "num_data=len(df)"
      ]
    },
    {
      "cell_type": "code",
      "execution_count": null,
      "metadata": {
        "colab": {
          "base_uri": "https://localhost:8080/"
        },
        "id": "DnyJ1OLRmrxw",
        "outputId": "dcb55b1d-688e-4892-ad80-acbfc98be357"
      },
      "outputs": [],
      "source": [
        "num_classes"
      ]
    },
    {
      "cell_type": "code",
      "execution_count": null,
      "metadata": {
        "colab": {
          "base_uri": "https://localhost:8080/"
        },
        "id": "7QtIHLQmmuUK",
        "outputId": "c25e8fb5-6dab-447c-8ced-1d52e4d86033"
      },
      "outputs": [],
      "source": [
        "num_data"
      ]
    },
    {
      "cell_type": "code",
      "execution_count": null,
      "metadata": {
        "colab": {
          "base_uri": "https://localhost:8080/",
          "height": 206
        },
        "id": "yWTdTzZsmwgQ",
        "outputId": "28cd4d58-5e82-4a2c-e8b8-510e5d45cbd6"
      },
      "outputs": [],
      "source": [
        "data = pd.DataFrame(df['landmark_id'].value_counts())\n",
        "data.reset_index(inplace=True)\n",
        "data.head()"
      ]
    },
    {
      "cell_type": "code",
      "execution_count": null,
      "metadata": {
        "colab": {
          "base_uri": "https://localhost:8080/",
          "height": 206
        },
        "id": "e5YRrhMenKcj",
        "outputId": "629d6e8a-2176-4e32-b85c-500aa31dbda9"
      },
      "outputs": [],
      "source": [
        "data.tail()"
      ]
    },
    {
      "cell_type": "code",
      "execution_count": null,
      "metadata": {
        "id": "N9Dek28lnUHa"
      },
      "outputs": [],
      "source": [
        "data.coloumn=['landmark_id','count']"
      ]
    },
    {
      "cell_type": "code",
      "execution_count": null,
      "metadata": {
        "colab": {
          "base_uri": "https://localhost:8080/"
        },
        "id": "EM_-pZdenrmL",
        "outputId": "e0b5266c-6579-4284-a404-f27539065e1e"
      },
      "outputs": [],
      "source": [
        "data['count'].describe()"
      ]
    },
    {
      "cell_type": "code",
      "execution_count": null,
      "metadata": {
        "colab": {
          "base_uri": "https://localhost:8080/",
          "height": 547
        },
        "id": "cH19GMzpnx2Q",
        "outputId": "4e39af53-5ba9-4571-d0f4-f0e7565bec8a"
      },
      "outputs": [],
      "source": [
        "plt.hist(data['count'],100,range=(0,270),label=\"test\")"
      ]
    },
    {
      "cell_type": "code",
      "execution_count": null,
      "metadata": {
        "colab": {
          "base_uri": "https://localhost:8080/"
        },
        "id": "klUWyq9ooetR",
        "outputId": "cfb940cb-8502-4555-baff-170ccb5470ab"
      },
      "outputs": [],
      "source": [
        "data['count'].between(0,5).sum()"
      ]
    },
    {
      "cell_type": "code",
      "execution_count": null,
      "metadata": {
        "colab": {
          "base_uri": "https://localhost:8080/"
        },
        "id": "rFjb1fvmo04R",
        "outputId": "54f293d0-6330-4350-c437-0f932d06f0ee"
      },
      "outputs": [],
      "source": [
        "data['count'].between(5,10).sum()"
      ]
    },
    {
      "cell_type": "code",
      "execution_count": null,
      "metadata": {
        "colab": {
          "base_uri": "https://localhost:8080/",
          "height": 722
        },
        "id": "MMYNyOTcM42S",
        "outputId": "e26d0c66-b8a2-42dd-9350-20e5176a3ea4"
      },
      "outputs": [],
      "source": [
        "plt.hist(df[\"landmark_id\"],bins=df[\"landmark_id\"].unique())"
      ]
    },
    {
      "cell_type": "code",
      "execution_count": null,
      "metadata": {
        "colab": {
          "base_uri": "https://localhost:8080/",
          "height": 74
        },
        "id": "ImNRfMLQNz0P",
        "outputId": "29c91174-67b9-4829-a58f-4b0beb1ba59d"
      },
      "outputs": [],
      "source": [
        "from sklearn.preprocessing import LabelEncoder\n",
        "lencoder=LabelEncoder()\n",
        "lencoder.fit(df[\"landmark_id\"])"
      ]
    },
    {
      "cell_type": "code",
      "execution_count": null,
      "metadata": {
        "colab": {
          "base_uri": "https://localhost:8080/",
          "height": 206
        },
        "id": "tnmmi0I4OOaW",
        "outputId": "f5b08ea5-76d6-4217-9a19-f4875db05e76"
      },
      "outputs": [],
      "source": [
        "df.head()"
      ]
    },
    {
      "cell_type": "code",
      "execution_count": null,
      "metadata": {
        "id": "_M0NHCUKOU9m"
      },
      "outputs": [],
      "source": [
        "def encode_label(lbl):\n",
        "    return lencoder.transform(lbl)"
      ]
    },
    {
      "cell_type": "code",
      "execution_count": null,
      "metadata": {
        "id": "PDcOr13KOrDI"
      },
      "outputs": [],
      "source": [
        "def decode_label(lbl):\n",
        "    return lencoder.inverse_transform(lbl)"
      ]
    },
    {
      "cell_type": "code",
      "execution_count": null,
      "metadata": {
        "id": "ZjfCG1wpO48p"
      },
      "outputs": [],
      "source": [
        "def get_image_from_number(num,df):\n",
        "    fname, label = df.iloc[num,:]\n",
        "    fname=fname+'.jpg'\n",
        "    f1=fname[0]\n",
        "    f2=fname[1]\n",
        "    f3=fname[2]\n",
        "    path=os.path.join(f1,f2,f3,fname)\n",
        "    im=cv2.imread(os.path.join(base_path,path))\n",
        "    return im,label"
      ]
    },
    {
      "cell_type": "code",
      "execution_count": null,
      "metadata": {
        "colab": {
          "base_uri": "https://localhost:8080/",
          "height": 245
        },
        "id": "9h3CU4ALPkUZ",
        "outputId": "84e9ebaa-e45b-4f9c-86d8-f84c00dff778"
      },
      "outputs": [],
      "source": [
        "print(\"4 Sample images from random classes\")\n",
        "fig=plt.figure(figsize=(16,16))\n",
        "for i in range(1,5):\n",
        "  ri= random.choices(os.listdir(base_path),k=3)\n",
        "  folder=base_path+'/'+ri[0]+'/'+ri[1]+'/'+ri[2]\n",
        "  random_img= random.choices(os.listdir(folder))\n",
        "  img=np.array(Image.open(folder+'/'+random_img))\n",
        "  fig.add_subplot(1,4,i)\n",
        "  plt.imshow(img)\n",
        "  plt.axis('off')\n",
        "plt.show()\n"
      ]
    },
    {
      "cell_type": "code",
      "execution_count": null,
      "metadata": {
        "id": "hhaUw3sHRVjJ"
      },
      "outputs": [],
      "source": [
        "from keras.applications.vgg19 import VGG19\n",
        "from keras.layers import *\n",
        "from keras import Sequential\n",
        "import tensorflow as tf\n",
        "tf.compat.v1.disable_eager_execution()\n",
        "\n"
      ]
    },
    {
      "cell_type": "code",
      "execution_count": null,
      "metadata": {
        "id": "bU6Inb2JSBUa"
      },
      "outputs": [],
      "source": [
        "learning_rate=0.0001\n",
        "decay_speed=1e-6\n",
        "momentum=0.09\n",
        "loss_function=\"sparse_categorial_crossentropy\"\n",
        "source_model=VGG19(weights=None)\n",
        "drop_layer= Dropout(0.5)\n",
        "drop_layer2=Dropout(0.5)"
      ]
    },
    {
      "cell_type": "code",
      "execution_count": null,
      "metadata": {
        "colab": {
          "base_uri": "https://localhost:8080/",
          "height": 654
        },
        "id": "6YawWia4Snq2",
        "outputId": "f84049db-41cb-428c-cb73-90a48f51a3f8"
      },
      "outputs": [],
      "source": [
        "model=Sequential()\n",
        "for layer in source_model.layers[:-1]:\n",
        "    if layer==source_model.layers[-25]:\n",
        "       model.add(BatchNormalization())\n",
        "    model.add(layer)\n",
        "    model.add(Dense(num_classes,activation=\"softmax\"))\n",
        "    model.summary()"
      ]
    },
    {
      "cell_type": "code",
      "execution_count": null,
      "metadata": {
        "colab": {
          "base_uri": "https://localhost:8080/"
        },
        "id": "sqO3-IxMUvSU",
        "outputId": "aa0e6683-e0e2-4f4d-9943-4d107032290b"
      },
      "outputs": [],
      "source": [
        "optim1 =keras.optimizers.RMSprop(lr=learning_rate)\n",
        "\n",
        "model.compile(optimizer=optim1,\n",
        "              loss=loss_function,\n",
        "              metrics=[\"accuracy\"])"
      ]
    },
    {
      "cell_type": "code",
      "execution_count": null,
      "metadata": {
        "id": "HOwetDixV5oI"
      },
      "outputs": [],
      "source": [
        "def image_reshape(im,target_size):\n",
        "    return cv2.resize(im,target_size)"
      ]
    },
    {
      "cell_type": "code",
      "execution_count": null,
      "metadata": {
        "id": "livJfPsBWJw1"
      },
      "outputs": [],
      "source": [
        "def get_batch(dataframe,start,batch_size):\n",
        "    image_array=[]\n",
        "    label_array=[]\n",
        "\n",
        "    end_img=start+batch_size\n",
        "    if(end_img)>len(dataframe):\n",
        "        end_img=len(dataframe)\n",
        "\n",
        "    for idx in range (start,end_img):\n",
        "        n=idx\n",
        "        im,label=get_image_from_number(n,dataframe)\n",
        "        im=image_reshape(im(224,224))/255.0\n",
        "        image_array.append(im)\n",
        "        label_array.append(label)\n",
        "    label_array=encode_label(label,array)\n",
        "    return np.array(imay=ge_array),np.array(label_array)\n",
        "\n",
        "\n",
        "\n"
      ]
    },
    {
      "cell_type": "code",
      "execution_count": null,
      "metadata": {
        "colab": {
          "base_uri": "https://localhost:8080/"
        },
        "id": "nbZhbCmsWeZQ",
        "outputId": "bded7ead-ac46-4e11-a5ec-0a1824e56ed4"
      },
      "outputs": [],
      "source": [
        "batch_size=16\n",
        "epoch_shuffle=True\n",
        "weight_classes=True\n",
        "epochs=1\n",
        "\n",
        "#split\n",
        "train,val=np.split(df.sample(frac=1),[int(0.8*len(df))])\n",
        "print(len(train))\n",
        "print(len(val))"
      ]
    },
    {
      "cell_type": "code",
      "execution_count": null,
      "metadata": {
        "colab": {
          "base_uri": "https://localhost:8080/",
          "height": 356
        },
        "id": "V-5n1ARsYJ0m",
        "outputId": "9e4589fe-286f-4827-f9bf-cd1df7ea07d7"
      },
      "outputs": [],
      "source": [
        "for e in range(epochs):\n",
        "    if epoch_shuffle:\n",
        "        train = train.sample(frac=1)\n",
        "    for it in range(int(np.ceil(len(train) / batch_size))):\n",
        "        X_train, Y_train = get_batch(train, it*batch_size, batch_size)\n",
        "        model.train_on_batch(X_train, Y_train)\n",
        "\n",
        "model.save(\"Model\")"
      ]
    },
    {
      "cell_type": "code",
      "execution_count": null,
      "metadata": {
        "colab": {
          "base_uri": "https://localhost:8080/",
          "height": 356
        },
        "id": "su3nBzEuanIp",
        "outputId": "ea532dbb-14a0-4c76-81cf-a9ea8a4bfdfa"
      },
      "outputs": [],
      "source": [
        "batch_size = 16\n",
        "errors = 0\n",
        "good_preds=[]\n",
        "bad_preds=[]\n",
        "\n",
        "for it in range(int(np.ceil(len(val)/batch_size))):\n",
        "    X_val,Y_val =get_batch(val,it*batch_size,batch_size)\n",
        "    result=model.predict(X_val)\n",
        "    cla=np.argmax(result,axis=1)\n",
        "    for idx, res in enumerate(result):\n",
        "        if cla[idx]!= Y_val[idx]:\n",
        "           errors =errors+1\n",
        "           bad_preds.append([batch_size*it+idx,cla[idx],res[cla[idx]]])\n",
        "        else:\n",
        "             good_preds.append([batch_size*it+idx, cla[idx], res[cla[idx]]])\n"
      ]
    },
    {
      "cell_type": "code",
      "execution_count": null,
      "metadata": {
        "id": "Wpl7b6dTfJUo"
      },
      "outputs": [],
      "source": [
        "good_preds=np.array(good_preds)\n",
        "good_preds=np.array(sorted(good_preds,key= lambda x:x[2], reverse=True))\n"
      ]
    },
    {
      "cell_type": "code",
      "execution_count": null,
      "metadata": {
        "colab": {
          "base_uri": "https://localhost:8080/",
          "height": 228
        },
        "id": "lXXKad3kgKCk",
        "outputId": "871cddce-16e4-4720-d43b-e46b00077c74"
      },
      "outputs": [],
      "source": [
        "fig=plt.figure(figsize=(16,16))\n",
        "for i in range (1,6):\n",
        "    n=int(good_preds[i,0])\n",
        "    img,lbl=get_image_from_number(n,val)\n",
        "    img=cv2.cvtColor(img,cv2.COLOR_BGR2RGB)\n",
        "    fig.add_subplot(1,5,i)\n",
        "    plt.imshow(img)\n",
        "    lbl2=np.array(int(good_preds[i,1])).reshape(1,1)\n",
        "    sample_cnt=list(df.landmark_id).count(lbl)\n",
        "\n",
        "    plt.tittle(\"Label: \"+str(lbl)+\"\\ nClassfield as:\"+str(decode_label(lbl)+ \"\\n Samples in class\"+ str(lbl)+\":\"))\n",
        "    plt.axs('off')\n",
        "plt.show()"
      ]
    }
  ],
  "metadata": {
    "colab": {
      "provenance": []
    },
    "kernelspec": {
      "display_name": "Python 3",
      "name": "python3"
    },
    "language_info": {
      "name": "python"
    }
  },
  "nbformat": 4,
  "nbformat_minor": 0
}
