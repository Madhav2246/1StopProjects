{
 "cells": [
  {
   "cell_type": "code",
   "execution_count": null,
   "id": "1eaf0b5f-f777-44d7-bce4-14f920669501",
   "metadata": {},
   "outputs": [],
   "source": [
    "pip install glob2"
   ]
  },
  {
   "cell_type": "code",
   "execution_count": null,
   "id": "85638893-85f8-4abb-889f-8e39d38efdaf",
   "metadata": {},
   "outputs": [],
   "source": [
    "import numpy as np\n",
    "import pandas as pd\n",
    "import matplotlib.pyplot as plt\n",
    "import matplotlib.image as image\n",
    "import glob2\n",
    "import os"
   ]
  },
  {
   "cell_type": "code",
   "execution_count": null,
   "id": "98e6fd03-2943-47cb-a0af-34abbbe626ca",
   "metadata": {},
   "outputs": [],
   "source": [
    "images_fp=\"./images\""
   ]
  },
  {
   "cell_type": "code",
   "execution_count": null,
   "id": "81f4812b-17c4-4679-b6bd-01d2005811cc",
   "metadata": {},
   "outputs": [],
   "source": [
    "image_names=[os.path.basename(file) for file in glob.glob(os.path.join(images_fp,'*.jpg'))]"
   ]
  },
  {
   "cell_type": "code",
   "execution_count": null,
   "id": "c1c8ed2c-a44a-4741-a774-3693e2c75b87",
   "metadata": {},
   "outputs": [],
   "source": [
    "image_names"
   ]
  },
  {
   "cell_type": "code",
   "execution_count": null,
   "id": "02c6b81a-a9f5-4601-a4a8-b58698ee75eb",
   "metadata": {},
   "outputs": [],
   "source": [
    "labels=[' '.join(name.split('_')[:-1:]) for name in image_names]"
   ]
  },
  {
   "cell_type": "code",
   "execution_count": null,
   "id": "61b00b1d-e7ac-49c4-990c-59f3f4e2a60d",
   "metadata": {},
   "outputs": [],
   "source": [
    "labels"
   ]
  },
  {
   "cell_type": "code",
   "execution_count": null,
   "id": "e7ea1358-cc91-45ce-a688-f336867b4f0b",
   "metadata": {},
   "outputs": [],
   "source": [
    "len(set(labels))"
   ]
  },
  {
   "cell_type": "code",
   "execution_count": null,
   "id": "7751d55e-1d1e-437a-8632-055b83e91a78",
   "metadata": {},
   "outputs": [],
   "source": [
    "def label_encoder(label):\n",
    "    if label=='Abyssinian': return 0\n",
    "    elif label=='Bengal': return 1\n",
    "    elif label=='Birman': return 2\n",
    "    elif label=='Bombay': return 3\n",
    "    elif label=='British Shorthair': return 4\n",
    "    elif label=='Egyptian Mau': return 5\n",
    "    elif label=='american bull dog': return 6\n",
    "    elif label=='americam pit bull terrier': return 7\n",
    "    elif label=='bassat hound': return 8\n",
    "    elif label=='beagle': return 9\n",
    "    elif label=='boxer': return 10\n",
    "    elif label=='chihuahua': return 11\n",
    "    elif label=='english cocker spaniel': return 12\n",
    "    elif label=='english setter': return 13\n",
    "    elif label=='german shorthair': return 14"
   ]
  },
  {
   "cell_type": "code",
   "execution_count": null,
   "id": "4aa9dfd9-315c-43f1-9893-b9ce5d3b0186",
   "metadata": {},
   "outputs": [],
   "source": [
    "import tensorflow as tf\n",
    "from tensorflow.keras.preprocessing.image import load_img,img_to_array"
   ]
  },
  {
   "cell_type": "code",
   "execution_count": null,
   "id": "e80af136-be92-4f46-aab4-636fea6da7f0",
   "metadata": {},
   "outputs": [],
   "source": [
    "features = []\n",
    "labels = []\n",
    "IMAGE_SIZE = (224, 224)\n",
    "\n",
    "for name in image_names:\n",
    "    label = ''.join(name.split('_')[:-1:])\n",
    "    label_encoded = label_encoder(label)  \n",
    "    if label_encoded != None:\n",
    "        img = load_img(os.path.join(images_fp, name)) \n",
    "        img = tf.image.resize_with_pad(img_to_array(img, dtype='uint8'), *IMAGE_SIZE).numpy().astype('uint8')\n",
    "        img = np.array(img)\n",
    "        features.append(img)\n",
    "        labels.append(label_encoded)\n"
   ]
  },
  {
   "cell_type": "code",
   "execution_count": null,
   "id": "18022821-86ed-40ef-b0ff-c24c255bd9fa",
   "metadata": {},
   "outputs": [],
   "source": [
    "features"
   ]
  },
  {
   "cell_type": "code",
   "execution_count": null,
   "id": "c04d1a61-9ebc-4529-b4ba-b2349653adce",
   "metadata": {},
   "outputs": [],
   "source": [
    "labels\n"
   ]
  },
  {
   "cell_type": "code",
   "execution_count": null,
   "id": "89921d19-ea34-4820-b40e-3800d599d800",
   "metadata": {},
   "outputs": [],
   "source": [
    "features_array=np.array(features)\n",
    "labels_array=np.array(labels)"
   ]
  },
  {
   "cell_type": "code",
   "execution_count": null,
   "id": "9bead4df-95e5-4af3-b00d-89dbd97687d2",
   "metadata": {},
   "outputs": [],
   "source": [
    "labels_one_hot=pd.get_dummies(labels_array,dtype=int)"
   ]
  },
  {
   "cell_type": "code",
   "execution_count": null,
   "id": "405d31c1-7262-447b-9cff-b893eb2c49b6",
   "metadata": {},
   "outputs": [],
   "source": [
    "labels_one_hot"
   ]
  },
  {
   "cell_type": "code",
   "execution_count": null,
   "id": "85767cac-d43a-4d06-961e-8c6d7e00764a",
   "metadata": {},
   "outputs": [],
   "source": [
    "from sklearn.model_selection import train_test_split"
   ]
  },
  {
   "cell_type": "code",
   "execution_count": null,
   "id": "926f195e",
   "metadata": {},
   "outputs": [],
   "source": [
    "X_train, X_test, y_train, y_test = train_test_split(features_array, labels_array, test_size=0.2, random_state=42)\n",
    "X_train, X_val, y_train, y_val = train_test_split(X_train, y_train, test_size=0.25, random_state=1)"
   ]
  },
  {
   "cell_type": "code",
   "execution_count": null,
   "id": "fd027984-382e-4f70-9845-87ec73798a8e",
   "metadata": {},
   "outputs": [],
   "source": [
    "len(X_train)"
   ]
  },
  {
   "cell_type": "code",
   "execution_count": null,
   "id": "f71e6f3d-64cb-490b-837a-8898f149a2f3",
   "metadata": {},
   "outputs": [],
   "source": [
    "len(X_val)"
   ]
  },
  {
   "cell_type": "code",
   "execution_count": null,
   "id": "9b7df50c-08bf-4bb4-afaf-69b1b7c21f6b",
   "metadata": {},
   "outputs": [],
   "source": [
    "len(X_test)"
   ]
  },
  {
   "cell_type": "code",
   "execution_count": null,
   "id": "413605da-2f36-455d-9ce3-5cd12a2341a2",
   "metadata": {},
   "outputs": [],
   "source": [
    "y_test"
   ]
  },
  {
   "cell_type": "code",
   "execution_count": null,
   "id": "bd0218d7-b13c-44c5-983c-ac917f4f94ac",
   "metadata": {},
   "outputs": [],
   "source": [
    "from tensorflow.keras import layers, Input, Model\n",
    "from tensorflow.keras.models import Sequential\n",
    "from tensorflow.keras.applications import ResNet50\n",
    "from tensorflow.keras.applications.resnet50 import preprocess_input as pp_i\n",
    "from tensorflow.keras.layers import RandomFlip, RandomRotation, Dense, Dropout\n",
    "from tensorflow.keras.losses import CategoricalCrossentropy\n",
    "from tensorflow.keras.optimizers import Adam"
   ]
  },
  {
   "cell_type": "code",
   "execution_count": null,
   "id": "c6541db1-14ea-447e-8a8c-684c654684de",
   "metadata": {},
   "outputs": [],
   "source": [
    "data_augmentation=Sequential([RandomFlip(\"horizontal_and_vertical\"),RandomRotation(0.2)])\n",
    "prediction_layers=Dense(16,activation=\"softmax\")"
   ]
  },
  {
   "cell_type": "code",
   "execution_count": null,
   "id": "edb05513-7440-4b0e-87e6-b20f6079cf6a",
   "metadata": {},
   "outputs": [],
   "source": [
    "resnet_model=ResNet50(include_top=False,pooling='avg',weights='imagenet')\n",
    "resnet_model.trainable=False\n",
    "preprocess_input=pp_i"
   ]
  },
  {
   "cell_type": "code",
   "execution_count": null,
   "id": "49c5def8-100b-4682-a561-1a97a0f7cd18",
   "metadata": {},
   "outputs": [],
   "source": [
    "inputs=Input(shape=())\n",
    "x=data_augmentation(inputs)\n",
    "x=preprocess_input(x)\n",
    "x=resnet_model(x,training=False)\n",
    "x=Dropout(0.2)(x)\n",
    "outputs=prediction_layers(x)\n",
    "model=Model(inputs,outputs)"
   ]
  },
  {
   "cell_type": "code",
   "execution_count": null,
   "id": "42d1650a-4e2f-4c6b-ad9c-3713bbe02a9d",
   "metadata": {},
   "outputs": [],
   "source": [
    "model.summary()"
   ]
  },
  {
   "cell_type": "code",
   "execution_count": null,
   "id": "91372618-3566-45bc-b06e-21597d754249",
   "metadata": {},
   "outputs": [],
   "source": [
    "print(\"Shape of y_train:\", y_train.shape)\n",
    "print(\"Shape of y_val:\", y_val.shape)"
   ]
  },
  {
   "cell_type": "code",
   "execution_count": null,
   "id": "0d7c65df-0df7-4444-ae69-1a336be5d6e3",
   "metadata": {},
   "outputs": [],
   "source": [
    "model.compile(optimizer=Adam(),loss=CategoricalCrossentropy(),metrics=['accuracy'])"
   ]
  },
  {
   "cell_type": "code",
   "execution_count": null,
   "id": "b5a26297-c65c-442f-88af-4abbcf322b6f",
   "metadata": {},
   "outputs": [],
   "source": [
    "model_history=model.fit(x=X_train,y=y_train,validation_data=(X_val,y_val),epochs=10)"
   ]
  },
  {
   "cell_type": "code",
   "execution_count": null,
   "id": "cc31e06a",
   "metadata": {},
   "outputs": [],
   "source": [
    "from tensorflow.keras.utils import to_categorical\n",
    "\n",
    "y_train_one_hot = to_categorical(y_train, num_classes=16)\n",
    "y_val_one_hot = to_categorical(y_val, num_classes=16)\n"
   ]
  },
  {
   "cell_type": "code",
   "execution_count": null,
   "id": "b2e96d1a-1328-4ed6-9453-c22ba0931be9",
   "metadata": {},
   "outputs": [],
   "source": [
    "acc=model_history.history['accuracy']\n",
    "val_acc=model_history.history['val accuracy']\n",
    "loss=model_history.history['loss']\n",
    "val_loss=model_history.history['val accuracy']"
   ]
  },
  {
   "cell_type": "code",
   "execution_count": null,
   "id": "c985e4c6-b3af-4aae-88ed-329c8ca79e82",
   "metadata": {},
   "outputs": [],
   "source": [
    "epochs_range=range(10)\n",
    "plt.figure(figsize=(15,8))\n",
    "\n",
    "\n",
    "plt.subplot(1,2,1)\n",
    "plt.plot(epochs_range,acc,label='Training accuracy')\n",
    "plt.plot(epochs_range,val acc,label='Validation accuracy')\n",
    "plt.legend(loc='lower right')\n",
    "plt.title('Training and Validation Accuracy')\n",
    "\n",
    "plt.subplot(1,2,2)\n",
    "plt.plot(epochs_range, loss, label='Training Loss')\n",
    "plt.plot(epochs_range, val_loss, label='Validation Loss')\n",
    "plt.legend(loc='upper right')\n",
    "pil.title('Training and Validation Loss')"
   ]
  },
  {
   "cell_type": "code",
   "execution_count": null,
   "id": "7f7da2a2-fe75-4cb8-b5b4-79bb1d9827b0",
   "metadata": {},
   "outputs": [],
   "source": [
    "model.evaluate(X_test,y_test)"
   ]
  },
  {
   "cell_type": "code",
   "execution_count": null,
   "id": "542eb44d-3f3d-4c37-91a2-6e726ca18a91",
   "metadata": {},
   "outputs": [],
   "source": [
    "y_pred=model.predict(X_test)"
   ]
  },
  {
   "cell_type": "code",
   "execution_count": null,
   "id": "17d4e550-4b71-4a4f-9aec-f1725aad4576",
   "metadata": {},
   "outputs": [],
   "source": [
    "y_pred"
   ]
  }
 ],
 "metadata": {
  "kernelspec": {
   "display_name": "Python 3 (ipykernel)",
   "language": "python",
   "name": "python3"
  },
  "language_info": {
   "codemirror_mode": {
    "name": "ipython",
    "version": 3
   },
   "file_extension": ".py",
   "mimetype": "text/x-python",
   "name": "python",
   "nbconvert_exporter": "python",
   "pygments_lexer": "ipython3",
   "version": "3.12.3"
  }
 },
 "nbformat": 4,
 "nbformat_minor": 5
}
